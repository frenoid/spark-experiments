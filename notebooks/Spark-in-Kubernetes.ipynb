{
 "cells": [
  {
   "cell_type": "markdown",
   "id": "fa510289-fb3a-4db9-b273-65803475a594",
   "metadata": {},
   "source": [
    "# Starting a Spark Session in Kubernetes\n",
    "This notebook shows you how to create a Spark Session in client mode in Kubernetes\n",
    "\n",
    "## Jupyterhub configurations\n",
    "The Jupyterhub must be configured in a specific way laid out in [spark-k8s-jupterhub](https://github.com/akoshel/spark-k8s-jupyterhub)\n",
    "\n",
    "Multiple Kubernetes resources must be created including\n",
    "1. A [ServiceAccount](https://github.com/frenoid/hobby-cluster/blob/master/jupyterhub/templates/custom/sa-singleuser.yaml)\n",
    "2. A [Role](https://github.com/frenoid/hobby-cluster/blob/master/jupyterhub/templates/custom/role-singleuser.yaml)\n",
    "3. A [RoleBinding](https://github.com/frenoid/hobby-cluster/blob/master/jupyterhub/templates/custom/role-singleuser.yaml)\n",
    "4. A [Service](https://github.com/frenoid/hobby-cluster/blob/master/jupyterhub/templates/custom/svc-driver.yaml) for the Spark driver to expose the driver, block manager and UI ports\n",
    "\n",
    "\n",
    "The actual configurations are in a helm chart in the [hobby-cluster repo](https://github.com/frenoid/hobby-cluster/tree/master/jupyterhub/templates/custom)\n",
    "\n",
    "## Spark image\n",
    "The Spark image has been customized to ensure that the Python minor version and the Spark version matches that of the Jupyter notebook\n",
    "\n",
    "The Dockerfile is viewable in [github.com](https://github.com/frenoid/spark-experiments/blob/master/docker/Dockerfile)"
   ]
  },
  {
   "cell_type": "code",
   "execution_count": 1,
   "id": "042be3db-526b-4403-a77d-f1a45b8c584d",
   "metadata": {},
   "outputs": [],
   "source": [
    "from pyspark import SparkConf, SparkContext\n",
    "\n",
    "conf = (SparkConf().setMaster(\"k8s://https://kubernetes.default.svc:443\") # Your master address name\n",
    "        .set(\"spark.kubernetes.container.image\", \"docker.io/frenoid/spark:3.5.1-py311-v2\") # Spark image name\n",
    "        .set(\"spark.driver.port\", \"2222\") # Needs to match svc\n",
    "        .set(\"spark.driver.blockManager.port\", \"7777\")\n",
    "        .set(\"spark.driver.host\", \"driver-service.jupyterhub.svc.cluster.local\") # Needs to match svc\n",
    "        .set(\"spark.driver.bindAddress\", \"0.0.0.0\")\n",
    "        .set(\"spark.kubernetes.namespace\", \"jupyterhub\")\n",
    "        .set(\"spark.kubernetes.authenticate.driver.serviceAccountName\", \"jupyterhub-singleuser-sa\")\n",
    "        .set(\"spark.kubernetes.authenticate.serviceAccountName\", \"jupyterhub-singleuser-sa\")\n",
    "        .set(\"spark.executor.instances\", \"1\")\n",
    "        .set(\"spark.kubernetes.container.image.pullPolicy\", \"IfNotPresent\")\n",
    "       .set(\"spark.app.name\", \"Norman-App\"))\n",
    "\n",
    "sc = SparkContext(conf=conf)"
   ]
  },
  {
   "cell_type": "code",
   "execution_count": 2,
   "id": "5d60ae1b-de17-4e28-840a-7f92c659421a",
   "metadata": {},
   "outputs": [
    {
     "data": {
      "text/html": [
       "\n",
       "        <div>\n",
       "            <p><b>SparkContext</b></p>\n",
       "\n",
       "            <p><a href=\"http://driver-service.jupyterhub.svc.cluster.local:4040\">Spark UI</a></p>\n",
       "\n",
       "            <dl>\n",
       "              <dt>Version</dt>\n",
       "                <dd><code>v3.5.1</code></dd>\n",
       "              <dt>Master</dt>\n",
       "                <dd><code>k8s://https://kubernetes.default.svc:443</code></dd>\n",
       "              <dt>AppName</dt>\n",
       "                <dd><code>Norman-App</code></dd>\n",
       "            </dl>\n",
       "        </div>\n",
       "        "
      ],
      "text/plain": [
       "<SparkContext master=k8s://https://kubernetes.default.svc:443 appName=Norman-App>"
      ]
     },
     "execution_count": 2,
     "metadata": {},
     "output_type": "execute_result"
    }
   ],
   "source": [
    "sc"
   ]
  },
  {
   "cell_type": "code",
   "execution_count": 3,
   "id": "78a6a6eb-3da5-4b9e-ad8c-ac8f81d98bd9",
   "metadata": {},
   "outputs": [],
   "source": [
    "from pyspark.sql import SparkSession\n",
    "\n",
    "spark = (SparkSession(sc)\n",
    "         .builder\n",
    "         .appName(\"DefaultSparkSession\")\n",
    "         .getOrCreate())"
   ]
  },
  {
   "cell_type": "code",
   "execution_count": 4,
   "id": "c1fdd585-ddd8-4825-a0f2-d451bf326752",
   "metadata": {},
   "outputs": [
    {
     "name": "stdout",
     "output_type": "stream",
     "text": [
      "+-----+---+---------------+\n",
      "| name|age|        address|\n",
      "+-----+---+---------------+\n",
      "| John| 25|123 Main Street|\n",
      "| Anna| 31| 456 Oak Avenue|\n",
      "|Peter| 37|  789 Pine Road|\n",
      "|Linda| 28| 321 Maple Lane|\n",
      "| Mike| 45|654 Cedar Drive|\n",
      "+-----+---+---------------+\n",
      "\n"
     ]
    }
   ],
   "source": [
    "# Create a list of objects with mock data\n",
    "mock_data = [\n",
    "    (\"John\", 25, \"123 Main Street\"),\n",
    "    (\"Anna\", 31, \"456 Oak Avenue\"),\n",
    "    (\"Peter\", 37, \"789 Pine Road\"),\n",
    "    (\"Linda\", 28, \"321 Maple Lane\"),\n",
    "    (\"Mike\", 45, \"654 Cedar Drive\")\n",
    "]\n",
    "\n",
    "# Create DataFrame\n",
    "df = spark.createDataFrame(mock_data, [\"name\", \"age\", \"address\"])\n",
    "\n",
    "# Show the contents of the DataFrame\n",
    "df.show(5)"
   ]
  },
  {
   "cell_type": "code",
   "execution_count": 5,
   "id": "5bbf2c41-733e-4dd8-b851-a21fc0597b94",
   "metadata": {},
   "outputs": [],
   "source": [
    "spark.stop()"
   ]
  }
 ],
 "metadata": {
  "kernelspec": {
   "display_name": "Python 3 (ipykernel)",
   "language": "python",
   "name": "python3"
  },
  "language_info": {
   "codemirror_mode": {
    "name": "ipython",
    "version": 3
   },
   "file_extension": ".py",
   "mimetype": "text/x-python",
   "name": "python",
   "nbconvert_exporter": "python",
   "pygments_lexer": "ipython3",
   "version": "3.11.9"
  }
 },
 "nbformat": 4,
 "nbformat_minor": 5
}
